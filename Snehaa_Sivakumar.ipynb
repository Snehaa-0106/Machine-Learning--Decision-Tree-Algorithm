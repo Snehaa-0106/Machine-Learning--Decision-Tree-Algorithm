{
 "cells": [
  {
   "cell_type": "code",
   "execution_count": 1,
   "metadata": {},
   "outputs": [],
   "source": [
    "#I have run the whole program and have kept it ready so that you can scroll them and check the results just like that,\n",
    "#or you can run the code and see also."
   ]
  },
  {
   "cell_type": "code",
   "execution_count": 101,
   "metadata": {},
   "outputs": [],
   "source": [
    "import numpy as np\n",
    "import pandas as pd\n",
    "import math\n",
    "from pathlib import Path\n",
    "from pprint import pprint"
   ]
  },
  {
   "cell_type": "code",
   "execution_count": 102,
   "metadata": {
    "scrolled": true
   },
   "outputs": [],
   "source": [
    "\n",
    "df_test1 = pd.read_csv(\"test_set1.csv\")\n",
    "df_train1 = pd.read_csv(\"training_set1.csv\")\n",
    "df_validation1 = pd.read_csv(\"validation_set1.csv\")\n",
    "\n",
    "df_test2 = pd.read_csv(\"test_set2.csv\")\n",
    "df_train2 = pd.read_csv(\"training_set2.csv\")\n",
    "df_validation2 = pd.read_csv(\"validation_set2.csv\")\n",
    "\n"
   ]
  },
  {
   "cell_type": "code",
   "execution_count": 103,
   "metadata": {},
   "outputs": [
    {
     "data": {
      "text/plain": [
       "array([[1, 0, 0, ..., 1, 1, 1],\n",
       "       [1, 1, 0, ..., 1, 0, 0],\n",
       "       [1, 0, 0, ..., 0, 1, 1],\n",
       "       ...,\n",
       "       [0, 1, 1, ..., 1, 0, 0],\n",
       "       [0, 1, 0, ..., 1, 0, 1],\n",
       "       [0, 0, 0, ..., 0, 0, 0]])"
      ]
     },
     "execution_count": 103,
     "metadata": {},
     "output_type": "execute_result"
    }
   ],
   "source": [
    "data = df_train1.values\n",
    "data"
   ]
  },
  {
   "cell_type": "code",
   "execution_count": null,
   "metadata": {},
   "outputs": [],
   "source": []
  },
  {
   "cell_type": "code",
   "execution_count": 104,
   "metadata": {},
   "outputs": [],
   "source": [
    "def Freq(data):\n",
    "    \n",
    "    unique,counts = np.unique(data[:,-1],return_counts=True)\n",
    "\n",
    "    freq = unique[counts.argmax()]\n",
    "    \n",
    "    return freq"
   ]
  },
  {
   "cell_type": "code",
   "execution_count": 105,
   "metadata": {},
   "outputs": [],
   "source": [
    "def cal_entropy(data):\n",
    "    \n",
    "    _,counts = np.unique(data[:,-1],return_counts = True)\n",
    "    prob = counts/counts.sum()\n",
    "    entropy = sum(prob * -np.log2(prob))\n",
    "    \n",
    "    return entropy"
   ]
  },
  {
   "cell_type": "code",
   "execution_count": 106,
   "metadata": {},
   "outputs": [],
   "source": [
    "def attributeEntropy(data_below,data_above):\n",
    "    \n",
    "    p1 = len(data_below) /(len(data_below) + len(data_above))\n",
    "    p2 = len(data_above) / (len(data_below) + len(data_above))\n",
    "    \n",
    "    attr_entropy = (p1*cal_entropy(data_below) + p2*cal_entropy(data_above))\n",
    "    \n",
    "    return attr_entropy"
   ]
  },
  {
   "cell_type": "code",
   "execution_count": 107,
   "metadata": {},
   "outputs": [],
   "source": [
    " def check_purity(data):\n",
    "    \n",
    "        if len(np.unique(data[:,-1])) !=1:\n",
    "            return False\n",
    "        else:\n",
    "            return True"
   ]
  },
  {
   "cell_type": "code",
   "execution_count": 108,
   "metadata": {},
   "outputs": [],
   "source": [
    "def potential_splits1(data):\n",
    "    \n",
    "    potential_attrs = {}\n",
    "    _,cols = data.shape\n",
    "    for i in range(cols-1):\n",
    "        \n",
    "        if len(np.unique(data[:,i])) > 1:\n",
    "            potential_attrs[i] = np.unique(data[:,i])\n",
    "    \n",
    "    return potential_attrs"
   ]
  },
  {
   "cell_type": "code",
   "execution_count": 109,
   "metadata": {},
   "outputs": [],
   "source": [
    "\n",
    "def split_set(data,best_attribute,bestattr_value):\n",
    "    \n",
    "    values = data[:,best_attribute]\n",
    "    \n",
    "    arr1 = data[values == bestattr_value]\n",
    "    arr2 = data[values != bestattr_value]\n",
    "    \n",
    "    return arr1, arr2"
   ]
  },
  {
   "cell_type": "code",
   "execution_count": 110,
   "metadata": {},
   "outputs": [],
   "source": [
    "def best_split(data):\n",
    "    if len(data[:, -1]) == 0:   # empty data\n",
    "        split = 0\n",
    "        \n",
    "    else:\n",
    "        prediction = np.mean(data[:, -1])\n",
    "        split = np.mean(((data[:, -1]) - prediction) **2)\n",
    "    \n",
    "    return split"
   ]
  },
  {
   "cell_type": "code",
   "execution_count": 111,
   "metadata": {},
   "outputs": [],
   "source": [
    "\n",
    "def divideAttr(data, attrs):\n",
    "    \n",
    "    nodeInformation = len(data)*cal_entropy(data)\n",
    "    information_gain = -math.inf\n",
    "    \n",
    "    for i in attrs:\n",
    "        for j in attrs[i]:\n",
    "            data_below,data_above = split_set(data, best_attribute = i, bestattr_value = j)\n",
    "            attrEnt = attributeEntropy(data_below, data_above)\n",
    "            \n",
    "            if ((nodeInformation - attrEnt) > information_gain):\n",
    "                information_gain = nodeInformation - attrEnt\n",
    "                best_attribute = i\n",
    "                best_value = j\n",
    "                \n",
    "    return best_attribute, best_value"
   ]
  },
  {
   "cell_type": "code",
   "execution_count": 112,
   "metadata": {},
   "outputs": [],
   "source": [
    "def decision_tree(df,c=0,max_depth=5):\n",
    "    \n",
    "       \n",
    "         if c != 0:\n",
    "            data = df\n",
    "        \n",
    "         else:\n",
    "            global attr\n",
    "            attr = df.columns\n",
    "            data = df.values          \n",
    "    \n",
    "         if(check_purity(data)):\n",
    "            classification = Freq(data)\n",
    "        \n",
    "            return classification\n",
    "    \n",
    "            pprint(tree(df,c))\n",
    "         else:    \n",
    "            c += 1\n",
    "            potential_splits = potential_splits1(data)\n",
    "            split_column, split_value = divideAttr(data, potential_splits)\n",
    "            arr1, arr2 = split_set(data, split_column, split_value)\n",
    "            feature_name = attr[split_column]\n",
    "            node = \"{} = {}\".format(feature_name, split_value)\n",
    "            sub_tree = {node: []}\n",
    "            left = decision_tree(arr1, c)\n",
    "            right = decision_tree(arr2, c)\n",
    "            if left == right:\n",
    "                sub_tree = right\n",
    "            else:\n",
    "                sub_tree[node].append(left)\n",
    "                sub_tree[node].append(right)\n",
    "            return sub_tree\n",
    "        \n",
    "            "
   ]
  },
  {
   "cell_type": "code",
   "execution_count": null,
   "metadata": {},
   "outputs": [],
   "source": []
  },
  {
   "cell_type": "code",
   "execution_count": 113,
   "metadata": {},
   "outputs": [
    {
     "name": "stdout",
     "output_type": "stream",
     "text": [
      "{'XI = 0': [{'XH = 0': [0,\n",
      "                        {'XB = 0': [0,\n",
      "                                    {'XN = 0': [0,\n",
      "                                                {'XK = 0': [0,\n",
      "                                                            {'XC = 0': [1,\n",
      "                                                                        0]}]}]}]}]},\n",
      "            {'XH = 0': [{'XP = 0': [0,\n",
      "                                    {'XT = 0': [0,\n",
      "                                                {'XG = 0': [{'XK = 0': [1, 0]},\n",
      "                                                            0]}]}]},\n",
      "                        {'XC = 0': [{'XN = 0': [{'XD = 0': [{'XP = 0': [{'XO = 0': [{'XK = 0': [0,\n",
      "                                                                                                1]},\n",
      "                                                                                    1]},\n",
      "                                                                        0]},\n",
      "                                                            {'XU = 0': [{'XG = 0': [0,\n",
      "                                                                                    1]},\n",
      "                                                                        0]}]},\n",
      "                                                {'XB = 0': [{'XL = 0': [0,\n",
      "                                                                        {'XR = 0': [{'XJ = 0': [1,\n",
      "                                                                                                {'XF = 0': [0,\n",
      "                                                                                                            1]}]},\n",
      "                                                                                    {'XM = 0': [0,\n",
      "                                                                                                {'XE = 0': [1,\n",
      "                                                                                                            0]}]}]}]},\n",
      "                                                            {'XQ = 0': [1,\n",
      "                                                                        {'XF = 0': [0,\n",
      "                                                                                    {'XD = 0': [{'XM = 0': [0,\n",
      "                                                                                                            1]},\n",
      "                                                                                                1]}]}]}]}]},\n",
      "                                    {'XB = 0': [{'XG = 0': [{'XU = 0': [{'XK = 0': [1,\n",
      "                                                                                    0]},\n",
      "                                                                        0]},\n",
      "                                                            0]},\n",
      "                                                0]}]}]}]}\n"
     ]
    }
   ],
   "source": [
    "\n",
    "tree = decision_tree(df_train1,c =0)\n",
    "pprint(tree)"
   ]
  },
  {
   "cell_type": "code",
   "execution_count": 114,
   "metadata": {},
   "outputs": [],
   "source": [
    "def evaluate_test(test, tree):\n",
    "    node = list(tree.keys())[0]\n",
    "    attribute_name, operator, value = node.split(\" \")\n",
    "\n",
    "    if str(test[attribute_name]) == value:\n",
    "        answer = tree[node][0]\n",
    "    else:\n",
    "        answer = tree[node][1]\n",
    "\n",
    "    if not isinstance(answer, type(dict)):\n",
    "        return answer\n",
    "    else:\n",
    "        sub_tree = answer\n",
    "        return evaluate_test(test, sub_tree)    "
   ]
  },
  {
   "cell_type": "code",
   "execution_count": 115,
   "metadata": {},
   "outputs": [
    {
     "data": {
      "text/plain": [
       "{'XH = 0': [{'XP = 0': [0,\n",
       "    {'XT = 0': [0, {'XG = 0': [{'XK = 0': [1, 0]}, 0]}]}]},\n",
       "  {'XC = 0': [{'XN = 0': [{'XD = 0': [{'XP = 0': [{'XO = 0': [{'XK = 0': [0,\n",
       "              1]},\n",
       "            1]},\n",
       "          0]},\n",
       "        {'XU = 0': [{'XG = 0': [0, 1]}, 0]}]},\n",
       "      {'XB = 0': [{'XL = 0': [0,\n",
       "          {'XR = 0': [{'XJ = 0': [1, {'XF = 0': [0, 1]}]},\n",
       "            {'XM = 0': [0, {'XE = 0': [1, 0]}]}]}]},\n",
       "        {'XQ = 0': [1,\n",
       "          {'XF = 0': [0, {'XD = 0': [{'XM = 0': [0, 1]}, 1]}]}]}]}]},\n",
       "    {'XB = 0': [{'XG = 0': [{'XU = 0': [{'XK = 0': [1, 0]}, 0]}, 0]}, 0]}]}]}"
      ]
     },
     "execution_count": 115,
     "metadata": {},
     "output_type": "execute_result"
    }
   ],
   "source": [
    "evaluate_test(df_test1,tree)"
   ]
  },
  {
   "cell_type": "code",
   "execution_count": 116,
   "metadata": {},
   "outputs": [
    {
     "data": {
      "text/plain": [
       "{'XH = 0': [{'XP = 0': [0,\n",
       "    {'XT = 0': [0, {'XG = 0': [{'XK = 0': [1, 0]}, 0]}]}]},\n",
       "  {'XC = 0': [{'XN = 0': [{'XD = 0': [{'XP = 0': [{'XO = 0': [{'XK = 0': [0,\n",
       "              1]},\n",
       "            1]},\n",
       "          0]},\n",
       "        {'XU = 0': [{'XG = 0': [0, 1]}, 0]}]},\n",
       "      {'XB = 0': [{'XL = 0': [0,\n",
       "          {'XR = 0': [{'XJ = 0': [1, {'XF = 0': [0, 1]}]},\n",
       "            {'XM = 0': [0, {'XE = 0': [1, 0]}]}]}]},\n",
       "        {'XQ = 0': [1,\n",
       "          {'XF = 0': [0, {'XD = 0': [{'XM = 0': [0, 1]}, 1]}]}]}]}]},\n",
       "    {'XB = 0': [{'XG = 0': [{'XU = 0': [{'XK = 0': [1, 0]}, 0]}, 0]}, 0]}]}]}"
      ]
     },
     "execution_count": 116,
     "metadata": {},
     "output_type": "execute_result"
    }
   ],
   "source": [
    "\n",
    "evaluate_test(df_validation1,tree)"
   ]
  },
  {
   "cell_type": "code",
   "execution_count": 117,
   "metadata": {},
   "outputs": [],
   "source": [
    "def accuracy(df,tree):\n",
    "    \n",
    "    df[\"prediction\"] = df.apply(evaluate_test, args=(tree,), axis =1)\n",
    "    df[\"correct_prediction\"] = df[\"prediction\"] == df[\"Class\"]\n",
    "    accuracy = df[\"correct_prediction\"].mean()\n",
    "    \n",
    "    return accuracy"
   ]
  },
  {
   "cell_type": "code",
   "execution_count": 118,
   "metadata": {},
   "outputs": [
    {
     "data": {
      "text/plain": [
       "0.0"
      ]
     },
     "execution_count": 118,
     "metadata": {},
     "output_type": "execute_result"
    }
   ],
   "source": [
    "accuracy = accuracy(df_test1,tree)\n",
    "accuracy"
   ]
  },
  {
   "cell_type": "code",
   "execution_count": null,
   "metadata": {},
   "outputs": [],
   "source": []
  }
 ],
 "metadata": {
  "kernelspec": {
   "display_name": "Python 3",
   "language": "python",
   "name": "python3"
  },
  "language_info": {
   "codemirror_mode": {
    "name": "ipython",
    "version": 3
   },
   "file_extension": ".py",
   "mimetype": "text/x-python",
   "name": "python",
   "nbconvert_exporter": "python",
   "pygments_lexer": "ipython3",
   "version": "3.7.3"
  }
 },
 "nbformat": 4,
 "nbformat_minor": 2
}
